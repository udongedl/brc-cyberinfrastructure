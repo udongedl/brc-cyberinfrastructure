{
 "cells": [
  {
   "cell_type": "markdown",
   "metadata": {},
   "source": [
    "# Check Folders\n",
    "Check whether folders are complete. Also create a list of which ranges are incomplete.\n",
    "\n",
    "Nicolas Chan, 10/19/2017"
   ]
  },
  {
   "cell_type": "code",
   "execution_count": 64,
   "metadata": {
    "collapsed": true
   },
   "outputs": [],
   "source": [
    "# Configuration\n",
    "results_folder = '/global/scratch/groups/dh/aanderson/results'\n",
    "incomplete_list_path = '/global/scratch/groups/dh/aanderson/incomplete.txt'\n",
    "complete_list_path = '/global/scratch/groups/dh/aanderson/complete.txt'"
   ]
  },
  {
   "cell_type": "code",
   "execution_count": 65,
   "metadata": {
    "collapsed": false
   },
   "outputs": [
    {
     "name": "stdout",
     "output_type": "stream",
     "text": [
      "Results_141-153 Complete\n",
      "Results_154-158 INCOMPLETE\n",
      "Results_159-163 Complete\n",
      "Results_164-168 INCOMPLETE\n",
      "Results_169-173 Complete\n",
      "Results_174-183 INCOMPLETE\n",
      "Results_179-183 Complete\n",
      "Results_184-203 INCOMPLETE\n",
      "Results_204-208 INCOMPLETE\n",
      "Results_209-223 Complete\n",
      "Results_224-228 INCOMPLETE\n",
      "Results_229-273 Complete\n",
      "Results_274-293 INCOMPLETE\n",
      "Results_294-313 Complete\n",
      "Results_314-333 Complete\n",
      "Results_334-353 INCOMPLETE\n",
      "Results_354-355 Complete\n",
      "Results_356-455 INCOMPLETE\n",
      "Results_456-475 Complete\n",
      "Results_476-485 Complete\n",
      "Results_486-495 Complete\n",
      "Results_496-505 Complete\n",
      "Results_506-515 Complete\n",
      "Results_516-535 Complete\n",
      "Results_536-555 Complete\n",
      "Results_556-575 INCOMPLETE\n",
      "Results_576-595 Complete\n",
      "Results_596-615 INCOMPLETE\n",
      "Results_616-635 INCOMPLETE\n",
      "Results_636-655 INCOMPLETE\n",
      "Results_656-675 Complete\n",
      "Results_676-695 Complete\n",
      "Results_696-715 INCOMPLETE\n",
      "Results_716-735 INCOMPLETE\n",
      "Results_736-755 INCOMPLETE\n",
      "[['Results_294-313', 'Results_314-333'], ['Results_456-475', 'Results_476-485', 'Results_486-495', 'Results_496-505', 'Results_506-515', 'Results_516-535', 'Results_536-555'], ['Results_656-675', 'Results_676-695']]\n"
     ]
    }
   ],
   "source": [
    "from os import listdir\n",
    "\n",
    "incomplete = []\n",
    "completed = []\n",
    "consecutive_completed_ranges = [[]]\n",
    "\n",
    "results_folders = sorted(listdir(results_folder))\n",
    "for subfolder in results_folders:\n",
    "    contents = listdir(results_folder + '/' + subfolder)\n",
    "    \n",
    "    #Ignore jobs that are in progress\n",
    "    if 'inProgress' in contents:\n",
    "        print(subfolder, 'In Progress')\n",
    "        continue\n",
    "        \n",
    "    # A folder is considered complete if it contains a bighitlist.txt and a smallhitlist.txt\n",
    "    complete = 'bighitlist.txt' in contents and 'smallhitlist.txt' in contents\n",
    "    \n",
    "    if complete:\n",
    "        completed.append(subfolder)\n",
    "    else:\n",
    "        incomplete.append(subfolder)\n",
    "    \n",
    "    if complete:\n",
    "        consecutive_completed_ranges[-1].append(subfolder)\n",
    "    elif len(consecutive_completed_ranges[-1]) > 0:\n",
    "        consecutive_completed_ranges.append([])\n",
    "        \n",
    "    print(subfolder, 'Complete' if complete else 'INCOMPLETE')\n",
    "\n",
    "consecutive_completed_ranges = [ r for r in consecutive_completed_ranges if len(r) > 1 ]\n",
    "print(consecutive_completed_ranges)"
   ]
  },
  {
   "cell_type": "code",
   "execution_count": 66,
   "metadata": {
    "collapsed": false
   },
   "outputs": [],
   "source": [
    "# Write list of incomplete ranges\n",
    "import datetime\n",
    "\n",
    "incomplete_list = open(incomplete_list_path, 'w')\n",
    "incomplete_list.write('# Generated ' + str(datetime.datetime.now()) + '\\n')\n",
    "for inc in incomplete:\n",
    "    incomplete_list.write(inc + '\\n')\n",
    "    \n",
    "incomplete_list.close()"
   ]
  },
  {
   "cell_type": "code",
   "execution_count": 67,
   "metadata": {
    "collapsed": false
   },
   "outputs": [],
   "source": [
    "# Write list of complete ranges\n",
    "import datetime\n",
    "\n",
    "complete_list = open(complete_list_path, 'w')\n",
    "complete_list.write('# Generated ' + str(datetime.datetime.now()) + '\\n')\n",
    "for c in completed:\n",
    "    complete_list.write(inc + '\\n')\n",
    "complete_list.close()"
   ]
  },
  {
   "cell_type": "code",
   "execution_count": 68,
   "metadata": {
    "collapsed": false
   },
   "outputs": [
    {
     "name": "stdout",
     "output_type": "stream",
     "text": [
      "[[154, 158], [164, 168], [174, 183], [184, 203], [204, 208], [224, 228], [274, 293], [334, 353], [356, 455], [556, 575], [596, 615], [616, 635], [636, 655], [696, 715], [716, 735], [736, 755]]\n",
      "Processing complete\n"
     ]
    }
   ],
   "source": [
    "#Write list of GDrive IDs for files in incomplete\n",
    "#Assume that all files in each incomplete range have failed to be processed\n",
    "allFilePath = '/global/scratch/groups/dh/aanderson/all_files.txt'\n",
    "incompleteRangeIDPath = '/global/scratch/groups/dh/aanderson/incompleteID.txt'\n",
    "incompleteRangeList = open(incomplete_list_path, \"r\").read().split('\\n') \n",
    "incompleteRanges = [] #Tuples of numbers\n",
    "\n",
    "\n",
    "for incompleteRange in incompleteRangeList[1:len(incompleteRangeList)-1]: #First line is a log, last line is EOF?\n",
    "    incompleteRanges.append([int(s) for s in incompleteRange.split('_')[1].split('-')])\n",
    "    \n",
    "print(incompleteRanges)\n",
    "allFiles = open(allFilePath, \"rt\", encoding='utf-8').read().split('\\n')\n",
    "incompleteRangeFile = open(incompleteRangeIDPath, \"w+\")\n",
    "for incompleteRange in incompleteRanges:\n",
    "    for index in range(incompleteRange[0]-1, incompleteRange[1]):\n",
    "        incompleteRangeFile.write(allFiles[index].split(';')[-1].strip('\\n'))\n",
    "        incompleteRangeFile.write(\"\\n\")\n",
    "\n",
    "#Cleanup\n",
    "incompleteRangeFile.close()\n",
    "print(\"Processing complete\")"
   ]
  },
  {
   "cell_type": "code",
   "execution_count": null,
   "metadata": {
    "collapsed": true
   },
   "outputs": [],
   "source": []
  }
 ],
 "metadata": {
  "kernelspec": {
   "display_name": "Python 3",
   "language": "python",
   "name": "python3"
  },
  "language_info": {
   "codemirror_mode": {
    "name": "ipython",
    "version": 3
   },
   "file_extension": ".py",
   "mimetype": "text/x-python",
   "name": "python",
   "nbconvert_exporter": "python",
   "pygments_lexer": "ipython3",
   "version": "3.5.1"
  }
 },
 "nbformat": 4,
 "nbformat_minor": 1
}
